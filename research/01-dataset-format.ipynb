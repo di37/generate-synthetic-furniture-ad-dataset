{
 "cells": [
  {
   "cell_type": "code",
   "execution_count": 1,
   "metadata": {},
   "outputs": [],
   "source": [
    "import os\n",
    "os.chdir(\"../\")"
   ]
  },
  {
   "cell_type": "code",
   "execution_count": 2,
   "metadata": {},
   "outputs": [
    {
     "name": "stdout",
     "output_type": "stream",
     "text": [
      "\u001b[1m\u001b[36m__pycache__\u001b[m\u001b[m/     \u001b[1m\u001b[36mdataset_creator\u001b[m\u001b[m/ \u001b[1m\u001b[36mresearch\u001b[m\u001b[m/\n",
      "\u001b[1m\u001b[36mdata\u001b[m\u001b[m/            main.py          \u001b[1m\u001b[36mutils\u001b[m\u001b[m/\n"
     ]
    }
   ],
   "source": [
    "%ls"
   ]
  },
  {
   "cell_type": "code",
   "execution_count": 3,
   "metadata": {},
   "outputs": [],
   "source": [
    "from utils import *"
   ]
  },
  {
   "attachments": {},
   "cell_type": "markdown",
   "metadata": {},
   "source": [
    "Convert the raw text file dataset to CSV file"
   ]
  },
  {
   "cell_type": "code",
   "execution_count": 4,
   "metadata": {},
   "outputs": [
    {
     "name": "stdout",
     "output_type": "stream",
     "text": [
      "Converting txt to csv...\n",
      "Conversion of txt to csv file completed successfully!\n"
     ]
    }
   ],
   "source": [
    "convert_txt_to_csv(file_path=RAW_FILE_PATH)"
   ]
  },
  {
   "cell_type": "code",
   "execution_count": 5,
   "metadata": {},
   "outputs": [],
   "source": [
    "df = pd.read_csv(RAW_FILE_PATH.replace(\".txt\", \".csv\"))"
   ]
  },
  {
   "cell_type": "code",
   "execution_count": 6,
   "metadata": {},
   "outputs": [
    {
     "data": {
      "text/html": [
       "<div>\n",
       "<style scoped>\n",
       "    .dataframe tbody tr th:only-of-type {\n",
       "        vertical-align: middle;\n",
       "    }\n",
       "\n",
       "    .dataframe tbody tr th {\n",
       "        vertical-align: top;\n",
       "    }\n",
       "\n",
       "    .dataframe thead th {\n",
       "        text-align: right;\n",
       "    }\n",
       "</style>\n",
       "<table border=\"1\" class=\"dataframe\">\n",
       "  <thead>\n",
       "    <tr style=\"text-align: right;\">\n",
       "      <th></th>\n",
       "      <th>name</th>\n",
       "      <th>description</th>\n",
       "      <th>ad</th>\n",
       "    </tr>\n",
       "  </thead>\n",
       "  <tbody>\n",
       "    <tr>\n",
       "      <th>626</th>\n",
       "      <td>Patio Set</td>\n",
       "      <td>A complete outdoor furniture set for comfortab...</td>\n",
       "      <td>Transform your patio into a paradise with our ...</td>\n",
       "    </tr>\n",
       "    <tr>\n",
       "      <th>629</th>\n",
       "      <td>Bed</td>\n",
       "      <td>A cozy and inviting piece of furniture for a g...</td>\n",
       "      <td>Dream in comfort and style with our luxurious ...</td>\n",
       "    </tr>\n",
       "    <tr>\n",
       "      <th>847</th>\n",
       "      <td>Bench</td>\n",
       "      <td>A seating solution that adds charm to your ind...</td>\n",
       "      <td>Experience the perfect blend of comfort and st...</td>\n",
       "    </tr>\n",
       "    <tr>\n",
       "      <th>514</th>\n",
       "      <td>Armchair</td>\n",
       "      <td>A classic and cozy chair for relaxation and re...</td>\n",
       "      <td>Indulge in luxurious comfort with our timeless...</td>\n",
       "    </tr>\n",
       "    <tr>\n",
       "      <th>365</th>\n",
       "      <td>Chest of Drawers</td>\n",
       "      <td>A practical and attractive storage unit for yo...</td>\n",
       "      <td>Stay organized and stylish with our spacious c...</td>\n",
       "    </tr>\n",
       "    <tr>\n",
       "      <th>903</th>\n",
       "      <td>3-Piece Sectional Sofa</td>\n",
       "      <td>This modern sectional sofa features a sleek de...</td>\n",
       "      <td>Get comfortable in style with our 3-Piece Sect...</td>\n",
       "    </tr>\n",
       "    <tr>\n",
       "      <th>655</th>\n",
       "      <td>Coffee Table</td>\n",
       "      <td>A functional and stylish centerpiece for your ...</td>\n",
       "      <td>Elevate your living space with our modern coff...</td>\n",
       "    </tr>\n",
       "    <tr>\n",
       "      <th>528</th>\n",
       "      <td>Wardrobe</td>\n",
       "      <td>A spacious and organized storage solution for ...</td>\n",
       "      <td>Stay stylish and organized with our sophistica...</td>\n",
       "    </tr>\n",
       "    <tr>\n",
       "      <th>321</th>\n",
       "      <td>Vanity Set</td>\n",
       "      <td>Create a glamorous and organized space for get...</td>\n",
       "      <td>Unleash your inner beauty queen with our elega...</td>\n",
       "    </tr>\n",
       "    <tr>\n",
       "      <th>70</th>\n",
       "      <td>Elegant Dressing Table</td>\n",
       "      <td>An elegant dressing table with a mirrored fini...</td>\n",
       "      <td>Transform your morning routine with our elegan...</td>\n",
       "    </tr>\n",
       "  </tbody>\n",
       "</table>\n",
       "</div>"
      ],
      "text/plain": [
       "                        name  \\\n",
       "626                Patio Set   \n",
       "629                      Bed   \n",
       "847                    Bench   \n",
       "514                 Armchair   \n",
       "365         Chest of Drawers   \n",
       "903   3-Piece Sectional Sofa   \n",
       "655             Coffee Table   \n",
       "528                 Wardrobe   \n",
       "321               Vanity Set   \n",
       "70    Elegant Dressing Table   \n",
       "\n",
       "                                           description  \\\n",
       "626  A complete outdoor furniture set for comfortab...   \n",
       "629  A cozy and inviting piece of furniture for a g...   \n",
       "847  A seating solution that adds charm to your ind...   \n",
       "514  A classic and cozy chair for relaxation and re...   \n",
       "365  A practical and attractive storage unit for yo...   \n",
       "903  This modern sectional sofa features a sleek de...   \n",
       "655  A functional and stylish centerpiece for your ...   \n",
       "528  A spacious and organized storage solution for ...   \n",
       "321  Create a glamorous and organized space for get...   \n",
       "70   An elegant dressing table with a mirrored fini...   \n",
       "\n",
       "                                                    ad  \n",
       "626  Transform your patio into a paradise with our ...  \n",
       "629  Dream in comfort and style with our luxurious ...  \n",
       "847  Experience the perfect blend of comfort and st...  \n",
       "514  Indulge in luxurious comfort with our timeless...  \n",
       "365  Stay organized and stylish with our spacious c...  \n",
       "903  Get comfortable in style with our 3-Piece Sect...  \n",
       "655  Elevate your living space with our modern coff...  \n",
       "528  Stay stylish and organized with our sophistica...  \n",
       "321  Unleash your inner beauty queen with our elega...  \n",
       "70   Transform your morning routine with our elegan...  "
      ]
     },
     "execution_count": 6,
     "metadata": {},
     "output_type": "execute_result"
    }
   ],
   "source": [
    "df.sample(10, random_state=42)"
   ]
  },
  {
   "cell_type": "code",
   "execution_count": 7,
   "metadata": {},
   "outputs": [
    {
     "data": {
      "text/plain": [
       "Dataset({\n",
       "    features: ['name', 'description', 'ad'],\n",
       "    num_rows: 1003\n",
       "})"
      ]
     },
     "execution_count": 7,
     "metadata": {},
     "output_type": "execute_result"
    }
   ],
   "source": [
    "hf_dataset = Dataset.from_pandas(df)\n",
    "hf_dataset.push_to_hub(HF_DESTINATION)"
   ]
  }
 ],
 "metadata": {
  "kernelspec": {
   "display_name": "openai_projects",
   "language": "python",
   "name": "python3"
  },
  "language_info": {
   "codemirror_mode": {
    "name": "ipython",
    "version": 3
   },
   "file_extension": ".py",
   "mimetype": "text/x-python",
   "name": "python",
   "nbconvert_exporter": "python",
   "pygments_lexer": "ipython3",
   "version": "3.10.11"
  },
  "orig_nbformat": 4
 },
 "nbformat": 4,
 "nbformat_minor": 2
}
